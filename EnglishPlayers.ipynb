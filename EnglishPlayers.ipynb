{
  "nbformat": 4,
  "nbformat_minor": 0,
  "metadata": {
    "colab": {
      "name": "EnglishPlayers.ipynb",
      "provenance": [],
      "collapsed_sections": [],
      "authorship_tag": "ABX9TyPspvZ+8zvhSpwe434iDsRO",
      "include_colab_link": true
    },
    "kernelspec": {
      "name": "python3",
      "display_name": "Python 3"
    }
  },
  "cells": [
    {
      "cell_type": "markdown",
      "metadata": {
        "id": "view-in-github",
        "colab_type": "text"
      },
      "source": [
        "<a href=\"https://colab.research.google.com/github/adrien-simard/adrien-simard-football-dataset/blob/master/EnglishPlayers.ipynb\" target=\"_parent\"><img src=\"https://colab.research.google.com/assets/colab-badge.svg\" alt=\"Open In Colab\"/></a>"
      ]
    },
    {
      "cell_type": "markdown",
      "metadata": {
        "id": "GjO47EBoPhJP",
        "colab_type": "text"
      },
      "source": [
        "#English Player Dataset\n",
        "The purpose of this code is to create a dataset of almost all professional football players in the English leagues.\n",
        "We will catch the data from websites:\n",
        "\n",
        "*   https://sofifa.com\n",
        "*   https://fbref.com\n",
        "\n",
        "we are going to use the library Beautifulsoup in order to collect informations on the website."
      ]
    },
    {
      "cell_type": "code",
      "metadata": {
        "id": "EwLNiXhrqQY1",
        "colab_type": "code",
        "colab": {}
      },
      "source": [
        "from urllib.request import urlopen\n",
        "from bs4 import BeautifulSoup\n",
        "from bs4 import Comment\n",
        "import pandas as pd\n",
        "from bs4.element import Tag "
      ],
      "execution_count": 0,
      "outputs": []
    },
    {
      "cell_type": "markdown",
      "metadata": {
        "id": "9OQZIsJ2QGjs",
        "colab_type": "text"
      },
      "source": [
        "###Find the stats of the players\n",
        "We define our function, the goal of this function is to create a dataframe with some stats about the players.\n",
        "The shape of the html code is the same for each page, there are tables with the stats for each player in the league.\n",
        "\n",
        "\n",
        "\n",
        "\n"
      ]
    },
    {
      "cell_type": "code",
      "metadata": {
        "id": "gQI_ovPtW_XP",
        "colab_type": "code",
        "colab": {}
      },
      "source": [
        "def getPlayers(Html,div):\n",
        "  html = urlopen(Html)\n",
        "  html_soup = BeautifulSoup(html, 'html.parser')\n",
        "  rows = html_soup.findAll(\"div\",id=\"all_stats_standard\")\n",
        "  comments =rows[0].findAll(string=lambda text: isinstance(text, Comment))\n",
        "  for c in comments:\n",
        "    c.extract()\n",
        "\n",
        "  sp = BeautifulSoup(c, 'html.parser')\n",
        "  l = sp.table.tbody.findAll(\"tr\")\n",
        "  players = []\n",
        "  for row in range(len(l)):\n",
        "    if l[row].a!=None :\n",
        "      player4 = {\n",
        "                  \"name\": l[row].a.text,\n",
        "                  \"Nation\": l[row].findAll(\"td\",class_=\"left\")[1].text,\n",
        "                  \"Pos\": l[row].findAll(\"td\",class_=\"center\")[0].text,\n",
        "                  \"Squad\": l[row].findAll(\"td\",class_=\"left\")[2].text,\n",
        "                 \"division\": div,\n",
        "                  \"Age\": l[row].findAll(\"td\",class_=\"center\")[1].text,\n",
        "                  \"Born\": l[row].findAll(\"td\",class_=\"center\")[2].text,\n",
        "               \"MP\" : l[row].findAll(\"td\",class_=\"right\")[0].text,\n",
        "               \"Starts\" : l[row].findAll(\"td\",class_=\"right\")[1].text,\n",
        "               \"Min\" : l[row].findAll(\"td\",class_=\"right\")[2].text,\n",
        "               \"Gls\" : l[row].findAll(\"td\",class_=\"right\")[3].text,\n",
        "               \"Ast\" : l[row].findAll(\"td\",class_=\"right\")[4].text,\n",
        "               \"PK\" : l[row].findAll(\"td\",class_=\"right\")[5].text,\n",
        "               \"PKatt\" : l[row].findAll(\"td\",class_=\"right\")[6].text,\n",
        "               \"CrdY\" : l[row].findAll(\"td\",class_=\"right\")[7].text,\n",
        "               \"CrdR\" : l[row].findAll(\"td\",class_=\"right\")[8].text,\n",
        "               \"Gls/90\" : l[row].findAll(\"td\",class_=\"right\")[9].text,\n",
        "               \"Ast/90\" : l[row].findAll(\"td\",class_=\"right\")[10].text,\n",
        "               \"G+A\" : l[row].findAll(\"td\",class_=\"right\")[11].text,\n",
        "               \"G-PK\" : l[row].findAll(\"td\",class_=\"right\")[12].text,\n",
        "               \"G+A-PK\" : l[row].findAll(\"td\",class_=\"right\")[13].text,\n",
        "               \"Value\": None ,\n",
        "              }\n",
        "      players.append(player4)\n",
        "  return players\n"
      ],
      "execution_count": 0,
      "outputs": []
    },
    {
      "cell_type": "markdown",
      "metadata": {
        "id": "mVD8_pUNYag9",
        "colab_type": "text"
      },
      "source": [
        "We use the function for the different leagues"
      ]
    },
    {
      "cell_type": "code",
      "metadata": {
        "id": "PYSM2jNRid_3",
        "colab_type": "code",
        "colab": {}
      },
      "source": [
        "#england\n",
        "df1 = pd.DataFrame(getPlayers(\"https://fbref.com/en/comps/9/stats/Premier-League-Stats\",1))\n",
        "df2 = pd.DataFrame(getPlayers(\"https://fbref.com/en/comps/10/stats/Championship-Stats\",2))\n",
        "df3 = pd.DataFrame(getPlayers(\"https://fbref.com/en/comps/15/stats/League-One-Stats\",3))\n",
        "df4 = pd.DataFrame(getPlayers(\"https://fbref.com/en/comps/16/stats/League-Two-Stats\",4))\n",
        "df5 = pd.DataFrame(getPlayers(\"https://fbref.com/en/comps/34/stats/National-League-Stats\",5))\n",
        "tot = pd.concat([df1,df2,df3,df4,df5])\n",
        "tot[1:-1].to_csv(\"ENplayers.csv\", encoding=\"utf-8-sig\")\n"
      ],
      "execution_count": 0,
      "outputs": []
    },
    {
      "cell_type": "code",
      "metadata": {
        "id": "CmuhyM9amJJD",
        "colab_type": "code",
        "colab": {}
      },
      "source": [
        "tot = pd.concat([df1,df2,df3,df4,df5])"
      ],
      "execution_count": 0,
      "outputs": []
    },
    {
      "cell_type": "markdown",
      "metadata": {
        "id": "-lFiMFnjZGzH",
        "colab_type": "text"
      },
      "source": [
        "Read the csv file "
      ]
    },
    {
      "cell_type": "code",
      "metadata": {
        "id": "Y5rV9Dkq11ea",
        "colab_type": "code",
        "colab": {}
      },
      "source": [
        "tot[1:-1].to_csv(\"ENplayers.csv\", encoding=\"utf-8-sig\")"
      ],
      "execution_count": 0,
      "outputs": []
    },
    {
      "cell_type": "code",
      "metadata": {
        "id": "MRsb3ZaYylDs",
        "colab_type": "code",
        "colab": {}
      },
      "source": [
        "df = pd.read_csv('ENplayers.csv')"
      ],
      "execution_count": 0,
      "outputs": []
    },
    {
      "cell_type": "markdown",
      "metadata": {
        "id": "myAYmwM6ZPr3",
        "colab_type": "text"
      },
      "source": [
        "Now we can do some requests and analysis with this dataframe.\n"
      ]
    },
    {
      "cell_type": "code",
      "metadata": {
        "id": "-e5m5KRnYm1x",
        "colab_type": "code",
        "colab": {}
      },
      "source": [
        "R1=df.loc[ (df['Age']<=20) & (df['Gls']>=10)]\n",
        "R2 = df.sort_values(by=[\"Gls\"]).tail(30)\n",
        "R3 = df.loc[(df['Age']<21)].tail(10)\n",
        "R4 = df.loc[(df['Pos']== 'MF')&(df['Ast']>=7) & (df['Gls']>=4)].sort_values(by=[\"G+A\"])"
      ],
      "execution_count": 0,
      "outputs": []
    },
    {
      "cell_type": "markdown",
      "metadata": {
        "id": "e5it37vpc2EV",
        "colab_type": "text"
      },
      "source": [
        "### Find the market value of the players (en cours...)\n",
        "We are going to use the web site:   https://sofifa.com"
      ]
    },
    {
      "cell_type": "code",
      "metadata": {
        "id": "SWzFI4ogczEU",
        "colab_type": "code",
        "colab": {}
      },
      "source": [
        "from urllib.request import urlopen, Request\n",
        "headers = {'User-Agent':'Mozilla/5.0 (Windows NT 6.1) AppleWebKit/537.36 (KHTML, like Gecko) Chrome/41.0.2228.0 Safari/537.3'}\n",
        "reg_url = \"https://sofifa.com/players?type=all&lg%5B%5D=13\"\n",
        "req = Request(url=reg_url, headers=headers) \n",
        "html2 = urlopen(req)\n",
        "html_soup = BeautifulSoup(html2, 'html.parser')"
      ],
      "execution_count": 0,
      "outputs": []
    },
    {
      "cell_type": "code",
      "metadata": {
        "id": "YBZaQn9vAwTR",
        "colab_type": "code",
        "outputId": "cc3993eb-ca83-4150-f270-0b192dc2b7b2",
        "colab": {
          "base_uri": "https://localhost:8080/",
          "height": 34
        }
      },
      "source": [
        "rows = html_soup.findAll(\"div\",class_='column col-auto')\n",
        "rows[0].findAll('td',class_=\"col-name\")[0].text\n",
        "trs =rows[0].table.findAll('tr')\n",
        "trs[1].findAll('td',class_='col-name')[0].a.text\n",
        "#trs[1].findAll('td',class_=\"col col-vl\")[0].text"
      ],
      "execution_count": 0,
      "outputs": [
        {
          "output_type": "execute_result",
          "data": {
            "text/plain": [
              "' V. van Dijk'"
            ]
          },
          "metadata": {
            "tags": []
          },
          "execution_count": 136
        }
      ]
    },
    {
      "cell_type": "code",
      "metadata": {
        "id": "sg9ZzjAQWQDY",
        "colab_type": "code",
        "colab": {}
      },
      "source": [
        "liste=[]\n",
        "for i in range(1,len(trs)):\n",
        "  player4 = {\n",
        "              \"name\": trs[i].a.text,\n",
        "              \"Value\": trs[i].findAll('td',class_=\"col col-vl\")[0].text,\n",
        "              }\n",
        "  liste.append(player4)\n",
        "liste\n",
        "\n",
        "\n"
      ],
      "execution_count": 0,
      "outputs": []
    },
    {
      "cell_type": "code",
      "metadata": {
        "id": "23hnqdX9esw4",
        "colab_type": "code",
        "outputId": "74d24f54-e9c6-4319-f0a2-ec2fa29e46f5",
        "colab": {
          "base_uri": "https://localhost:8080/",
          "height": 80
        }
      },
      "source": [
        "dt = pd.DataFrame(liste)\n",
        "tot.loc[(tot['name'].str.contains('Gomez'))]\n"
      ],
      "execution_count": 0,
      "outputs": [
        {
          "output_type": "execute_result",
          "data": {
            "text/html": [
              "<div>\n",
              "<style scoped>\n",
              "    .dataframe tbody tr th:only-of-type {\n",
              "        vertical-align: middle;\n",
              "    }\n",
              "\n",
              "    .dataframe tbody tr th {\n",
              "        vertical-align: top;\n",
              "    }\n",
              "\n",
              "    .dataframe thead th {\n",
              "        text-align: right;\n",
              "    }\n",
              "</style>\n",
              "<table border=\"1\" class=\"dataframe\">\n",
              "  <thead>\n",
              "    <tr style=\"text-align: right;\">\n",
              "      <th></th>\n",
              "      <th>name</th>\n",
              "      <th>Nation</th>\n",
              "      <th>Pos</th>\n",
              "      <th>Squad</th>\n",
              "      <th>division</th>\n",
              "      <th>Age</th>\n",
              "      <th>Born</th>\n",
              "      <th>MP</th>\n",
              "      <th>Starts</th>\n",
              "      <th>Min</th>\n",
              "      <th>Gls</th>\n",
              "      <th>Ast</th>\n",
              "      <th>PK</th>\n",
              "      <th>PKatt</th>\n",
              "      <th>CrdY</th>\n",
              "      <th>CrdR</th>\n",
              "      <th>Gls/90</th>\n",
              "      <th>Ast/90</th>\n",
              "      <th>G+A</th>\n",
              "      <th>G-PK</th>\n",
              "      <th>G+A-PK</th>\n",
              "      <th>Value</th>\n",
              "    </tr>\n",
              "  </thead>\n",
              "  <tbody>\n",
              "    <tr>\n",
              "      <th>162</th>\n",
              "      <td>Joe Gomez</td>\n",
              "      <td>eng ENG</td>\n",
              "      <td>DF</td>\n",
              "      <td>Liverpool</td>\n",
              "      <td>1</td>\n",
              "      <td>22</td>\n",
              "      <td>1997</td>\n",
              "      <td>19</td>\n",
              "      <td>14</td>\n",
              "      <td>1,276</td>\n",
              "      <td>0</td>\n",
              "      <td>0</td>\n",
              "      <td>0</td>\n",
              "      <td>0</td>\n",
              "      <td>3</td>\n",
              "      <td>0</td>\n",
              "      <td>0.00</td>\n",
              "      <td>0.00</td>\n",
              "      <td>0.00</td>\n",
              "      <td>0.00</td>\n",
              "      <td>0.00</td>\n",
              "      <td>None</td>\n",
              "    </tr>\n",
              "  </tbody>\n",
              "</table>\n",
              "</div>"
            ],
            "text/plain": [
              "          name   Nation Pos      Squad  ...   G+A  G-PK G+A-PK Value\n",
              "162  Joe Gomez  eng ENG  DF  Liverpool  ...  0.00  0.00   0.00  None\n",
              "\n",
              "[1 rows x 22 columns]"
            ]
          },
          "metadata": {
            "tags": []
          },
          "execution_count": 184
        }
      ]
    },
    {
      "cell_type": "code",
      "metadata": {
        "id": "SssvWiiScy6-",
        "colab_type": "code",
        "colab": {}
      },
      "source": [
        "pd.merge(tot,dt,left_on= \"name\", right_on= \"name\")"
      ],
      "execution_count": 0,
      "outputs": []
    }
  ]
}