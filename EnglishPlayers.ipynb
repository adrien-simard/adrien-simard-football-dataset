{
  "nbformat": 4,
  "nbformat_minor": 0,
  "metadata": {
    "colab": {
      "name": "EnglishPlayers.ipynb",
      "provenance": [],
      "collapsed_sections": [],
      "toc_visible": true,
      "authorship_tag": "ABX9TyMOfGIWlWPGLmxsmIM4v789",
      "include_colab_link": true
    },
    "kernelspec": {
      "name": "python3",
      "display_name": "Python 3"
    }
  },
  "cells": [
    {
      "cell_type": "markdown",
      "metadata": {
        "id": "view-in-github",
        "colab_type": "text"
      },
      "source": [
        "<a href=\"https://colab.research.google.com/github/adrien-simard/adrien-simard-football-dataset/blob/master/EnglishPlayers.ipynb\" target=\"_parent\"><img src=\"https://colab.research.google.com/assets/colab-badge.svg\" alt=\"Open In Colab\"/></a>"
      ]
    },
    {
      "cell_type": "markdown",
      "metadata": {
        "id": "GjO47EBoPhJP",
        "colab_type": "text"
      },
      "source": [
        "#English Player Dataset\n",
        "The purpose of this code is to create a dataset of almost all professional football players in the English leagues.\n",
        "We will catch the data from websites:\n",
        "\n",
        "*   https://sofifa.com\n",
        "*   https://fbref.com\n",
        "\n",
        "we are going to use the library Beautifulsoup in order to collect informations on the website."
      ]
    },
    {
      "cell_type": "code",
      "metadata": {
        "id": "EwLNiXhrqQY1",
        "colab_type": "code",
        "colab": {}
      },
      "source": [
        "from urllib.request import urlopen\n",
        "from bs4 import BeautifulSoup\n",
        "import pandas as pd"
      ],
      "execution_count": 0,
      "outputs": []
    },
    {
      "cell_type": "markdown",
      "metadata": {
        "id": "9OQZIsJ2QGjs",
        "colab_type": "text"
      },
      "source": [
        "We define our function, the goal of this function is to create a dataframe with some stats about the players.\n",
        "The shape of the html code is the same for each page, there are tables with the stats for each player in the league.\n",
        "\n",
        "\n",
        "\n",
        "\n"
      ]
    },
    {
      "cell_type": "code",
      "metadata": {
        "id": "gQI_ovPtW_XP",
        "colab_type": "code",
        "colab": {}
      },
      "source": [
        "def getPlayers(Html,div):\n",
        "  html = urlopen(Html)\n",
        "  html_soup = BeautifulSoup(html, 'html.parser')\n",
        "  rows = html_soup.findAll(\"div\",id=\"all_stats_standard\")\n",
        "  comments =rows[0].findAll(string=lambda text: isinstance(text, Comment))\n",
        "  for c in comments:\n",
        "    c.extract()\n",
        "\n",
        "  sp = BeautifulSoup(c, 'html.parser')\n",
        "  l = sp.table.tbody.findAll(\"tr\")\n",
        "  players = []\n",
        "  for row in range(len(l)):\n",
        "    if l[row].a!=None :\n",
        "      player4 = {\n",
        "                  \"name\": l[row].a.text,\n",
        "                  \"Nation\": l[row].findAll(\"td\",class_=\"left\")[1].text,\n",
        "                  \"Pos\": l[row].findAll(\"td\",class_=\"center\")[0].text,\n",
        "                  \"Squad\": l[row].findAll(\"td\",class_=\"left\")[2].text,\n",
        "                 \"division\": div,\n",
        "                  \"Age\": l[row].findAll(\"td\",class_=\"center\")[1].text,\n",
        "                  \"Born\": l[row].findAll(\"td\",class_=\"center\")[2].text,\n",
        "               \"MP\" : l[row].findAll(\"td\",class_=\"right\")[0].text,\n",
        "               \"Starts\" : l[row].findAll(\"td\",class_=\"right\")[1].text,\n",
        "               \"Min\" : l[row].findAll(\"td\",class_=\"right\")[2].text,\n",
        "               \"Gls\" : l[row].findAll(\"td\",class_=\"right\")[3].text,\n",
        "               \"Ast\" : l[row].findAll(\"td\",class_=\"right\")[4].text,\n",
        "               \"PK\" : l[row].findAll(\"td\",class_=\"right\")[5].text,\n",
        "               \"PKatt\" : l[row].findAll(\"td\",class_=\"right\")[6].text,\n",
        "               \"CrdY\" : l[row].findAll(\"td\",class_=\"right\")[7].text,\n",
        "               \"CrdR\" : l[row].findAll(\"td\",class_=\"right\")[8].text,\n",
        "               \"Gls/90\" : l[row].findAll(\"td\",class_=\"right\")[9].text,\n",
        "               \"Ast/90\" : l[row].findAll(\"td\",class_=\"right\")[10].text,\n",
        "               \"G+A\" : l[row].findAll(\"td\",class_=\"right\")[11].text,\n",
        "               \"G-PK\" : l[row].findAll(\"td\",class_=\"right\")[12].text,\n",
        "               \"G+A-PK\" : l[row].findAll(\"td\",class_=\"right\")[13].text,\n",
        "              }\n",
        "      players.append(player4)\n",
        "  return players\n"
      ],
      "execution_count": 0,
      "outputs": []
    },
    {
      "cell_type": "markdown",
      "metadata": {
        "id": "mVD8_pUNYag9",
        "colab_type": "text"
      },
      "source": [
        "We use the function for the different leagues"
      ]
    },
    {
      "cell_type": "code",
      "metadata": {
        "id": "PYSM2jNRid_3",
        "colab_type": "code",
        "colab": {}
      },
      "source": [
        "#england\n",
        "df1 = pd.DataFrame(getPlayers(\"https://fbref.com/en/comps/9/stats/Premier-League-Stats\",1))\n",
        "df2 = pd.DataFrame(getPlayers(\"https://fbref.com/en/comps/10/stats/Championship-Stats\",2))\n",
        "df3 = pd.DataFrame(getPlayers(\"https://fbref.com/en/comps/15/stats/League-One-Stats\",3))\n",
        "df4 = pd.DataFrame(getPlayers(\"https://fbref.com/en/comps/16/stats/League-Two-Stats\",4))\n",
        "df5 = pd.DataFrame(getPlayers(\"https://fbref.com/en/comps/34/stats/National-League-Stats\",5))\n",
        "tot = pd.concat([df1,df2,df3,df4,df5])\n",
        "tot[1:-1].to_csv(\"ENplayers.csv\", encoding=\"utf-8-sig\")\n"
      ],
      "execution_count": 0,
      "outputs": []
    },
    {
      "cell_type": "code",
      "metadata": {
        "id": "CmuhyM9amJJD",
        "colab_type": "code",
        "colab": {}
      },
      "source": [
        "tot = pd.concat([df1,df2,df3,df4,df5])"
      ],
      "execution_count": 0,
      "outputs": []
    },
    {
      "cell_type": "markdown",
      "metadata": {
        "id": "-lFiMFnjZGzH",
        "colab_type": "text"
      },
      "source": [
        "Read the csv file "
      ]
    },
    {
      "cell_type": "code",
      "metadata": {
        "id": "Y5rV9Dkq11ea",
        "colab_type": "code",
        "colab": {}
      },
      "source": [
        "tot[1:-1].to_csv(\"ENplayers.csv\", encoding=\"utf-8-sig\")"
      ],
      "execution_count": 0,
      "outputs": []
    },
    {
      "cell_type": "code",
      "metadata": {
        "id": "MRsb3ZaYylDs",
        "colab_type": "code",
        "colab": {}
      },
      "source": [
        "df = pd.read_csv('ENplayers.csv')"
      ],
      "execution_count": 0,
      "outputs": []
    },
    {
      "cell_type": "markdown",
      "metadata": {
        "id": "myAYmwM6ZPr3",
        "colab_type": "text"
      },
      "source": [
        "Now we can do some requests and analysis with this dataframe.\n"
      ]
    },
    {
      "cell_type": "code",
      "metadata": {
        "id": "-e5m5KRnYm1x",
        "colab_type": "code",
        "colab": {}
      },
      "source": [
        "R1=df.loc[ (df['Age']<=20) & (df['Gls']>=10)]\n",
        "R2 = df.sort_values(by=[\"Gls\"]).tail(30)\n",
        "R3 = df.loc[(df['Age']<21)].tail(10)\n",
        "R4 = df.loc[(df['Pos']== 'MF')&(df['Ast']>=7) & (df['Gls']>=4)].sort_values(by=[\"G+A\"])"
      ],
      "execution_count": 0,
      "outputs": []
    }
  ]
}