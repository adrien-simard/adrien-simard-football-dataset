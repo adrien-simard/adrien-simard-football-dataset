{
  "nbformat": 4,
  "nbformat_minor": 0,
  "metadata": {
    "colab": {
      "name": "EnglishPlayers.ipynb",
      "provenance": [],
      "collapsed_sections": [],
      "toc_visible": true,
      "authorship_tag": "ABX9TyNkw380mnTuXW409TOPdQr6",
      "include_colab_link": true
    },
    "kernelspec": {
      "name": "python3",
      "display_name": "Python 3"
    }
  },
  "cells": [
    {
      "cell_type": "markdown",
      "metadata": {
        "id": "view-in-github",
        "colab_type": "text"
      },
      "source": [
        "<a href=\"https://colab.research.google.com/github/adrien-simard/adrien-simard-football-dataset/blob/master/EnglishPlayers.ipynb\" target=\"_parent\"><img src=\"https://colab.research.google.com/assets/colab-badge.svg\" alt=\"Open In Colab\"/></a>"
      ]
    },
    {
      "cell_type": "code",
      "metadata": {
        "id": "EwLNiXhrqQY1",
        "colab_type": "code",
        "colab": {}
      },
      "source": [
        "from urllib.request import urlopen\n",
        "from bs4 import BeautifulSoup\n",
        "import pandas as pd"
      ],
      "execution_count": 0,
      "outputs": []
    },
    {
      "cell_type": "code",
      "metadata": {
        "id": "lv10QXjmyAaV",
        "colab_type": "code",
        "colab": {}
      },
      "source": [
        "p1=pd.read_csv(\"player1.csv\", sep=',', encoding=\"latin1\")\n"
      ],
      "execution_count": 0,
      "outputs": []
    },
    {
      "cell_type": "code",
      "metadata": {
        "id": "h9XJoy8RyLwc",
        "colab_type": "code",
        "colab": {}
      },
      "source": [
        "p2=pd.read_csv(\"player2.csv\", sep=',', encoding=\"latin1\")"
      ],
      "execution_count": 0,
      "outputs": []
    },
    {
      "cell_type": "code",
      "metadata": {
        "id": "rG5bI16myMQq",
        "colab_type": "code",
        "colab": {}
      },
      "source": [
        "p3=pd.read_csv(\"players3.csv\", sep=',', encoding=\"latin1\")"
      ],
      "execution_count": 0,
      "outputs": []
    },
    {
      "cell_type": "code",
      "metadata": {
        "id": "-7OQ3qWnyM2h",
        "colab_type": "code",
        "colab": {}
      },
      "source": [
        "p4=pd.read_csv(\"players4.csv\", sep=',', encoding=\"latin1\")"
      ],
      "execution_count": 0,
      "outputs": []
    },
    {
      "cell_type": "code",
      "metadata": {
        "id": "PUiV_sIjyN-H",
        "colab_type": "code",
        "colab": {}
      },
      "source": [
        "p5=pd.read_csv(\"players5.csv\", sep=',', encoding=\"latin1\")"
      ],
      "execution_count": 0,
      "outputs": []
    },
    {
      "cell_type": "code",
      "metadata": {
        "id": "VzRzh_3m012T",
        "colab_type": "code",
        "colab": {}
      },
      "source": [
        "tot = pd.concat([p1, p2,p3,p4,p5],sort=False)\n",
        "df =tot[tot.columns[1:21]]\n",
        "df.columns = ['Player','Nation','Pos','Squad', 'Age','Born','MP',\t'Starts',\t'Min',\t'Goals',\t'Assists',\t'PenalKick','PKattempt',\t'CardY',\t'CardR',\t'Goals/90',\t'Ast/90',\t'G+A/90',\t'G-PK/90',\t'G+A-PK']\n"
      ],
      "execution_count": 0,
      "outputs": []
    },
    {
      "cell_type": "code",
      "metadata": {
        "id": "VEjaV6a8y36X",
        "colab_type": "code",
        "colab": {}
      },
      "source": [
        "df.to_csv(\"EnglishPlayer.csv\")"
      ],
      "execution_count": 0,
      "outputs": []
    }
  ]
}